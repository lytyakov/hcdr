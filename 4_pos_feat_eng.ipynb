{
 "cells": [
  {
   "cell_type": "code",
   "execution_count": null,
   "metadata": {},
   "outputs": [],
   "source": [
    "import numpy as np\n",
    "import pandas as pd\n",
    "from warnings import filterwarnings as f_w\n",
    "f_w('ignore')\n",
    "pd.options.display.max_columns = 999\n",
    "pd.options.display.max_rows = 500"
   ]
  },
  {
   "cell_type": "code",
   "execution_count": null,
   "metadata": {},
   "outputs": [],
   "source": [
    "table = 'pos'\n",
    "locator = pd.read_excel('locator.xlsx', index_col = 0)"
   ]
  },
  {
   "cell_type": "code",
   "execution_count": null,
   "metadata": {},
   "outputs": [],
   "source": [
    "pos = pd.read_csv(locator.loc[table, 'initial'])"
   ]
  },
  {
   "cell_type": "code",
   "execution_count": null,
   "metadata": {},
   "outputs": [],
   "source": [
    "prev = pd.read_csv(locator.loc['prev', 'initial'],\n",
    "                   usecols = ['SK_ID_PREV', 'AMT_ANNUITY', \n",
    "                              'CNT_PAYMENT'])"
   ]
  },
  {
   "cell_type": "code",
   "execution_count": null,
   "metadata": {},
   "outputs": [],
   "source": [
    "pos = pd.merge(pos,\n",
    "               prev,\n",
    "               on = 'SK_ID_PREV',\n",
    "               how = 'left')\n",
    "pos['CNT_PAYMENT_FACT_RATIO'] = pos.eval('CNT_INSTALMENT / CNT_PAYMENT')\n",
    "pos['FUTURE_PAYMENT_RATIO'] = pos.eval('CNT_INSTALMENT_FUTURE / CNT_PAYMENT')\n",
    "pos['REMAINED_TO_PAY'] = pos.eval('CNT_INSTALMENT_FUTURE * AMT_ANNUITY')\n",
    "pos = pos.drop(columns = ['CNT_PAYMENT', 'AMT_ANNUITY'])\n",
    "pos = pos.sort_values(by = ['SK_ID_PREV', 'MONTHS_BALANCE'])"
   ]
  },
  {
   "cell_type": "code",
   "execution_count": null,
   "metadata": {},
   "outputs": [],
   "source": [
    "pos_last = pos.groupby('SK_ID_PREV').agg({'SK_ID_CURR': 'max',\n",
    "                                          'CNT_PAYMENT_FACT_RATIO': 'last',\n",
    "                                          'FUTURE_PAYMENT_RATIO': 'last',\n",
    "                                          'REMAINED_TO_PAY': 'last',\n",
    "                                          'CNT_INSTALMENT_FUTURE': 'last',\n",
    "                                        })"
   ]
  },
  {
   "cell_type": "code",
   "execution_count": null,
   "metadata": {},
   "outputs": [],
   "source": [
    "pos_agg = pos_last.groupby('SK_ID_CURR').agg({'CNT_PAYMENT_FACT_RATIO': ['min', 'max', 'mean', 'std'],\n",
    "                                              'FUTURE_PAYMENT_RATIO': ['min', 'max', 'mean', 'std'],\n",
    "                                              'REMAINED_TO_PAY': ['sum'],\n",
    "                                              'CNT_INSTALMENT_FUTURE': ['min', 'max', 'mean', 'std'],\n",
    "                                             })"
   ]
  },
  {
   "cell_type": "code",
   "execution_count": null,
   "metadata": {},
   "outputs": [],
   "source": [
    "pos_agg = pos_agg.join(pos.groupby('SK_ID_CURR').agg({'SK_DPD': ['max', 'mean', 'std'],\n",
    "                                                      'SK_DPD_DEF': ['max', 'mean', 'std'],\n",
    "                                                     }))"
   ]
  },
  {
   "cell_type": "code",
   "execution_count": null,
   "metadata": {},
   "outputs": [],
   "source": [
    "pos_agg.columns = pd.Index(['_'.join(('POS', c[0], c[1].upper())) for c in pos_agg.columns])"
   ]
  },
  {
   "cell_type": "code",
   "execution_count": null,
   "metadata": {},
   "outputs": [],
   "source": [
    "pos_agg = pos_agg.replace({np.inf:np.nan,\n",
    "                           -np.inf:np.nan})"
   ]
  },
  {
   "cell_type": "code",
   "execution_count": null,
   "metadata": {},
   "outputs": [],
   "source": [
    "pos_agg.to_csv(locator.loc[table, 'feat_eng'])"
   ]
  }
 ],
 "metadata": {
  "kernelspec": {
   "display_name": "Python 3",
   "language": "python",
   "name": "python3"
  },
  "language_info": {
   "codemirror_mode": {
    "name": "ipython",
    "version": 3
   },
   "file_extension": ".py",
   "mimetype": "text/x-python",
   "name": "python",
   "nbconvert_exporter": "python",
   "pygments_lexer": "ipython3",
   "version": "3.6.5"
  }
 },
 "nbformat": 4,
 "nbformat_minor": 2
}
