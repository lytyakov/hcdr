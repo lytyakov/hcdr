{
 "cells": [
  {
   "cell_type": "code",
   "execution_count": null,
   "metadata": {},
   "outputs": [],
   "source": [
    "import numpy as np\n",
    "import pandas as pd\n",
    "from warnings import filterwarnings as f_w\n",
    "f_w('ignore')\n",
    "pd.options.display.max_columns = 999\n",
    "pd.options.display.max_rows = 500\n",
    "import gc"
   ]
  },
  {
   "cell_type": "code",
   "execution_count": null,
   "metadata": {},
   "outputs": [],
   "source": [
    "table = 'burb' \n",
    "locator = pd.read_excel('locator.xlsx', index_col = 0)"
   ]
  },
  {
   "cell_type": "code",
   "execution_count": null,
   "metadata": {},
   "outputs": [],
   "source": [
    "bb = pd.read_csv(locator.loc[table, 'initial'])\n",
    "bb = bb.sort_values(by = ['SK_ID_BUREAU', 'MONTHS_BALANCE'])"
   ]
  },
  {
   "cell_type": "code",
   "execution_count": null,
   "metadata": {},
   "outputs": [],
   "source": [
    "bb = bb.replace({'C': np.nan,\n",
    "                 'X': np.nan})\n",
    "bb.STATUS = bb.STATUS.astype(float)"
   ]
  },
  {
   "cell_type": "code",
   "execution_count": null,
   "metadata": {},
   "outputs": [],
   "source": [
    "bb_agg = bb.groupby('SK_ID_BUREAU').agg({'STATUS': ['max', 'mean', 'std', 'last']})\n",
    "bb_agg.columns = pd.Index(['_'.join(('BUROB', c[0], c[1])).upper() for c in bb_agg.columns])"
   ]
  },
  {
   "cell_type": "code",
   "execution_count": null,
   "metadata": {},
   "outputs": [],
   "source": [
    "table = 'buro'\n",
    "buro = pd.read_csv(locator.loc[table, 'initial'])"
   ]
  },
  {
   "cell_type": "code",
   "execution_count": null,
   "metadata": {},
   "outputs": [],
   "source": [
    "buro = buro.drop(buro[buro.CREDIT_ACTIVE == 'Active'][buro.DAYS_CREDIT_UPDATE < -60].index)"
   ]
  },
  {
   "cell_type": "code",
   "execution_count": null,
   "metadata": {},
   "outputs": [],
   "source": [
    "buro = buro.join(pd.get_dummies(buro[['CREDIT_ACTIVE']]))"
   ]
  },
  {
   "cell_type": "code",
   "execution_count": null,
   "metadata": {},
   "outputs": [],
   "source": [
    "buro['DEBT_CREDIT'] = buro.eval('AMT_CREDIT_SUM_DEBT / AMT_CREDIT_SUM')\n",
    "buro['DEBT_LIMIT'] = buro.eval('AMT_CREDIT_SUM_DEBT / AMT_CREDIT_SUM_LIMIT')\n",
    "buro['OVERDUE_CREDIT'] = buro.eval('AMT_CREDIT_SUM_OVERDUE / AMT_CREDIT_SUM')\n",
    "buro['OVERDUE_LIMIT'] = buro.eval('AMT_CREDIT_SUM_OVERDUE / AMT_CREDIT_SUM_LIMIT')\n",
    "buro['OVERDUE_DEBT'] = buro.eval('AMT_CREDIT_SUM_OVERDUE / AMT_CREDIT_SUM_DEBT')\n",
    "buro['END_FACT_PLAN'] = buro.eval('DAYS_CREDIT_ENDDATE - DAYS_ENDDATE_FACT')"
   ]
  },
  {
   "cell_type": "code",
   "execution_count": null,
   "metadata": {},
   "outputs": [],
   "source": [
    "buro = buro.replace({np.inf:np.nan,\n",
    "                    -np.inf:np.nan})"
   ]
  },
  {
   "cell_type": "code",
   "execution_count": null,
   "metadata": {},
   "outputs": [],
   "source": [
    "buro = buro.merge(bb_agg,\n",
    "                  left_on = 'SK_ID_BUREAU',\n",
    "                  right_index = True,\n",
    "                  how = 'left')"
   ]
  },
  {
   "cell_type": "code",
   "execution_count": null,
   "metadata": {},
   "outputs": [],
   "source": [
    "buro = buro.sort_values(by = 'DAYS_CREDIT')"
   ]
  },
  {
   "cell_type": "code",
   "execution_count": null,
   "metadata": {},
   "outputs": [],
   "source": [
    "aggregations = {\n",
    "    'CREDIT_ACTIVE': ['size', 'last'],\n",
    "    'CREDIT_CURRENCY': 'nunique',\n",
    "    'DAYS_CREDIT': ['min', 'max'],\n",
    "    'CREDIT_DAY_OVERDUE': ['max', 'mean', 'std'],\n",
    "    'DAYS_CREDIT_ENDDATE': ['min', 'max'],\n",
    "    'DAYS_ENDDATE_FACT': ['min', 'max'],\n",
    "    'AMT_CREDIT_MAX_OVERDUE': ['max', 'mean'],\n",
    "    'CNT_CREDIT_PROLONG': ['max', 'mean'],\n",
    "    'AMT_CREDIT_SUM': ['sum', 'max', 'mean'],\n",
    "    'AMT_CREDIT_SUM_DEBT': ['sum', 'max', 'mean'],\n",
    "    'AMT_CREDIT_SUM_LIMIT': ['sum', 'max', 'mean'],\n",
    "    'AMT_CREDIT_SUM_OVERDUE': ['sum', 'max', 'mean'],\n",
    "    'CREDIT_TYPE': 'nunique',\n",
    "    'AMT_ANNUITY': ['min', 'max', 'mean', 'std'],\n",
    "    'CREDIT_ACTIVE_Active': ['sum', 'mean'],\n",
    "    'CREDIT_ACTIVE_Bad debt': ['sum', 'mean'],\n",
    "    'CREDIT_ACTIVE_Closed': ['sum', 'mean'],\n",
    "    'CREDIT_ACTIVE_Sold': ['sum', 'mean'],\n",
    "    'DEBT_CREDIT': ['min', 'max', 'mean', 'std'],\n",
    "    'DEBT_LIMIT': ['min', 'max', 'mean', 'std'],\n",
    "    'OVERDUE_CREDIT': ['min', 'max', 'mean', 'std'],\n",
    "    'OVERDUE_LIMIT': ['min', 'max', 'mean', 'std'],\n",
    "    'OVERDUE_DEBT': ['min', 'max', 'mean', 'std'],\n",
    "    'END_FACT_PLAN': ['min', 'max', 'mean', 'std'],\n",
    "    'BUROB_STATUS_MAX': 'mean',\n",
    "    'BUROB_STATUS_MEAN': 'mean',\n",
    "    'BUROB_STATUS_STD': 'mean',\n",
    "    'BUROB_STATUS_LAST': 'mean',\n",
    "}"
   ]
  },
  {
   "cell_type": "code",
   "execution_count": null,
   "metadata": {},
   "outputs": [],
   "source": [
    "buro_agg = buro.groupby('SK_ID_CURR').agg(aggregations)\n",
    "buro_agg.columns = pd.Index(['BURO_' + c[0] + \"_\" + c[1].upper() for c in buro_agg.columns.tolist()])"
   ]
  },
  {
   "cell_type": "code",
   "execution_count": null,
   "metadata": {},
   "outputs": [],
   "source": [
    "aggregations['CREDIT_ACTIVE'] = 'size'"
   ]
  },
  {
   "cell_type": "code",
   "execution_count": null,
   "metadata": {},
   "outputs": [],
   "source": [
    "active = buro[buro.CREDIT_ACTIVE == 'Active']\n",
    "active_agg = active.groupby('SK_ID_CURR').agg(aggregations)\n",
    "active_agg.columns = pd.Index(['ACTIVE_' + e[0] + \"_\" + e[1].upper() for e in active_agg.columns.tolist()])\n",
    "buro_agg = buro_agg.join(active_agg, how='left', on='SK_ID_CURR')\n",
    "del active, active_agg\n",
    "gc.collect()"
   ]
  },
  {
   "cell_type": "code",
   "execution_count": null,
   "metadata": {},
   "outputs": [],
   "source": [
    "closed = buro[buro.CREDIT_ACTIVE == 'Closed']\n",
    "closed_agg = closed.groupby('SK_ID_CURR').agg(aggregations)\n",
    "closed_agg.columns = pd.Index(['CLOSED_' + e[0] + \"_\" + e[1].upper() for e in closed_agg.columns.tolist()])\n",
    "buro_agg = buro_agg.join(closed_agg, how='left', on='SK_ID_CURR')\n",
    "del closed, closed_agg, buro\n",
    "gc.collect()"
   ]
  },
  {
   "cell_type": "code",
   "execution_count": null,
   "metadata": {},
   "outputs": [],
   "source": [
    "buro_agg.to_csv(locator.loc[table, 'feat_eng'])"
   ]
  }
 ],
 "metadata": {
  "kernelspec": {
   "display_name": "Python 3",
   "language": "python",
   "name": "python3"
  },
  "language_info": {
   "codemirror_mode": {
    "name": "ipython",
    "version": 3
   },
   "file_extension": ".py",
   "mimetype": "text/x-python",
   "name": "python",
   "nbconvert_exporter": "python",
   "pygments_lexer": "ipython3",
   "version": "3.6.5"
  }
 },
 "nbformat": 4,
 "nbformat_minor": 2
}
