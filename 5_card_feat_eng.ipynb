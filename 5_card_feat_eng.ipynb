{
 "cells": [
  {
   "cell_type": "code",
   "execution_count": null,
   "metadata": {},
   "outputs": [],
   "source": [
    "import numpy as np\n",
    "import pandas as pd\n",
    "from warnings import filterwarnings as f_w\n",
    "f_w('ignore')\n",
    "pd.options.display.max_columns = 999\n",
    "pd.options.display.max_rows = 500\n",
    "import gc"
   ]
  },
  {
   "cell_type": "code",
   "execution_count": null,
   "metadata": {},
   "outputs": [],
   "source": [
    "table = 'card'\n",
    "locator = pd.read_excel('locator.xlsx', index_col = 0)"
   ]
  },
  {
   "cell_type": "code",
   "execution_count": null,
   "metadata": {},
   "outputs": [],
   "source": [
    "card = pd.read_csv(locator.loc[table, 'initial'])"
   ]
  },
  {
   "cell_type": "code",
   "execution_count": null,
   "metadata": {},
   "outputs": [],
   "source": [
    "card = card.sort_values(by = ['SK_ID_PREV', 'MONTHS_BALANCE'])"
   ]
  },
  {
   "cell_type": "code",
   "execution_count": null,
   "metadata": {},
   "outputs": [],
   "source": [
    "card['ATM_AMT_RATIO'] = card.eval('AMT_DRAWINGS_ATM_CURRENT / AMT_DRAWINGS_CURRENT')\n",
    "card['POS_AMT_RATIO'] = card.eval('AMT_DRAWINGS_POS_CURRENT / AMT_DRAWINGS_CURRENT')\n",
    "card['OTH_AMT_RATIO'] = card.eval('AMT_DRAWINGS_OTHER_CURRENT / AMT_DRAWINGS_CURRENT')\n",
    "card['ATM_CNT_RATIO'] = card.eval('CNT_DRAWINGS_ATM_CURRENT / CNT_DRAWINGS_CURRENT')\n",
    "card['POS_CNT_RATIO'] = card.eval('CNT_DRAWINGS_POS_CURRENT / CNT_DRAWINGS_CURRENT')\n",
    "card['OTH_CNT_RATIO'] = card.eval('CNT_DRAWINGS_OTHER_CURRENT / CNT_DRAWINGS_CURRENT')\n",
    "card['MEAN_DRAWING'] = card.eval('AMT_DRAWINGS_CURRENT / CNT_DRAWINGS_CURRENT')\n",
    "card['CUR_PAYM_RATIO'] = card.eval('AMT_PAYMENT_CURRENT / AMT_PAYMENT_TOTAL_CURRENT')\n",
    "card['RECIEVPRIN_RATIO'] = card.eval('AMT_RECEIVABLE_PRINCIPAL / AMT_TOTAL_RECEIVABLE')\n",
    "card['RECIEV_RATIO'] = card.eval('AMT_RECIVABLE / AMT_TOTAL_RECEIVABLE')\n",
    "card['BALANCE_LIMIT'] = card.eval('AMT_BALANCE / AMT_CREDIT_LIMIT_ACTUAL')\n",
    "card['DRAWING_LIMIT'] = card.eval('AMT_DRAWINGS_CURRENT / AMT_CREDIT_LIMIT_ACTUAL')\n",
    "card['PAYMENT_LIMIT'] = card.eval('AMT_PAYMENT_TOTAL_CURRENT / AMT_CREDIT_LIMIT_ACTUAL')\n",
    "card['DRAWING_BALANCE'] = card.eval('AMT_DRAWINGS_CURRENT / AMT_BALANCE')\n",
    "card['PAYMENT_BALANCE'] = card.eval('AMT_PAYMENT_TOTAL_CURRENT / AMT_BALANCE')\n",
    "card['RECIVABLE_LIMIT'] = card.eval('AMT_TOTAL_RECEIVABLE / AMT_CREDIT_LIMIT_ACTUAL')\n",
    "card['RECIVABLE_BALANCE'] = card.eval('AMT_TOTAL_RECEIVABLE / AMT_BALANCE')\n",
    "card['PAYMENT_RECIVABLE'] = card.eval('AMT_PAYMENT_TOTAL_CURRENT / AMT_TOTAL_RECEIVABLE')\n",
    "card['MININS_LIMIT'] = card.eval('AMT_INST_MIN_REGULARITY / AMT_CREDIT_LIMIT_ACTUAL')\n",
    "card['MININS_BALANCE'] = card.eval('AMT_INST_MIN_REGULARITY / AMT_BALANCE')\n",
    "card['MININS_RECIVABLE'] = card.eval('AMT_INST_MIN_REGULARITY / AMT_TOTAL_RECEIVABLE')"
   ]
  },
  {
   "cell_type": "code",
   "execution_count": null,
   "metadata": {},
   "outputs": [],
   "source": [
    "card = card.replace({np.inf:np.nan,\n",
    "                    -np.inf:np.nan})"
   ]
  },
  {
   "cell_type": "code",
   "execution_count": null,
   "metadata": {},
   "outputs": [],
   "source": [
    "aggregations = {\n",
    "    'MONTHS_BALANCE': ['min', 'size'],\n",
    "    'AMT_BALANCE': ['mean', 'std', 'last'],\n",
    "    'AMT_CREDIT_LIMIT_ACTUAL': ['mean', 'std', 'last'],\n",
    "    'AMT_DRAWINGS_ATM_CURRENT': ['mean', 'std'],\n",
    "    'AMT_DRAWINGS_CURRENT': ['mean', 'std'],\n",
    "    'AMT_DRAWINGS_OTHER_CURRENT': ['mean', 'std'],\n",
    "    'AMT_DRAWINGS_POS_CURRENT': ['mean', 'std'],\n",
    "    'AMT_INST_MIN_REGULARITY': ['mean', 'std'],\n",
    "    'AMT_PAYMENT_CURRENT': ['mean', 'std'],\n",
    "    'AMT_PAYMENT_TOTAL_CURRENT': ['mean', 'std'],\n",
    "    'AMT_RECEIVABLE_PRINCIPAL': ['mean', 'std'],\n",
    "    'AMT_RECIVABLE': ['mean', 'std'],\n",
    "    'AMT_TOTAL_RECEIVABLE': ['mean', 'std', 'last'],\n",
    "    'CNT_DRAWINGS_ATM_CURRENT': ['mean', 'std'],\n",
    "    'CNT_DRAWINGS_CURRENT': ['mean', 'std'],\n",
    "    'CNT_DRAWINGS_OTHER_CURRENT': ['mean', 'std'],\n",
    "    'CNT_DRAWINGS_POS_CURRENT': ['mean', 'std'],\n",
    "    'SK_DPD': ['mean', 'std'],\n",
    "    'SK_DPD_DEF': ['mean', 'std'],\n",
    "    'ATM_AMT_RATIO': 'mean',\n",
    "    'POS_AMT_RATIO': 'mean',\n",
    "    'OTH_AMT_RATIO': 'mean',\n",
    "    'ATM_CNT_RATIO': 'mean',\n",
    "    'POS_CNT_RATIO': 'mean',\n",
    "    'OTH_CNT_RATIO': 'mean',\n",
    "    'MEAN_DRAWING': 'mean',\n",
    "    'CUR_PAYM_RATIO': 'mean',\n",
    "    'RECIEVPRIN_RATIO': 'mean',\n",
    "    'RECIEV_RATIO': 'mean',\n",
    "    'BALANCE_LIMIT': 'mean',\n",
    "    'DRAWING_LIMIT': 'mean',\n",
    "    'PAYMENT_LIMIT': 'mean',\n",
    "    'DRAWING_BALANCE': 'mean',\n",
    "    'PAYMENT_BALANCE': 'mean',\n",
    "    'RECIVABLE_LIMIT': 'mean',\n",
    "    'RECIVABLE_BALANCE': 'mean',\n",
    "    'PAYMENT_RECIVABLE': 'mean',\n",
    "    'MININS_LIMIT': 'mean',\n",
    "    'MININS_BALANCE': 'mean',\n",
    "    'MININS_RECIVABLE': 'mean',\n",
    "               }"
   ]
  },
  {
   "cell_type": "code",
   "execution_count": null,
   "metadata": {},
   "outputs": [],
   "source": [
    "card_agg = card.groupby('SK_ID_CURR').agg(aggregations)\n",
    "card_agg.columns = pd.Index(['_'.join(('CARD', c[0], c[1].upper())) for c in card_agg.columns.tolist()])"
   ]
  },
  {
   "cell_type": "code",
   "execution_count": null,
   "metadata": {},
   "outputs": [],
   "source": [
    "card_agg.to_csv(locator.loc[table, 'feat_eng'])"
   ]
  }
 ],
 "metadata": {
  "kernelspec": {
   "display_name": "Python 3",
   "language": "python",
   "name": "python3"
  },
  "language_info": {
   "codemirror_mode": {
    "name": "ipython",
    "version": 3
   },
   "file_extension": ".py",
   "mimetype": "text/x-python",
   "name": "python",
   "nbconvert_exporter": "python",
   "pygments_lexer": "ipython3",
   "version": "3.6.5"
  }
 },
 "nbformat": 4,
 "nbformat_minor": 2
}
