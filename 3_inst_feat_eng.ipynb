{
 "cells": [
  {
   "cell_type": "code",
   "execution_count": null,
   "metadata": {},
   "outputs": [],
   "source": [
    "import numpy as np \n",
    "import pandas as pd\n",
    "from warnings import filterwarnings as f_w\n",
    "f_w('ignore')\n",
    "pd.options.display.max_columns = 999\n",
    "pd.options.display.max_rows = 500\n",
    "import gc"
   ]
  },
  {
   "cell_type": "code",
   "execution_count": null,
   "metadata": {},
   "outputs": [],
   "source": [
    "table = 'inst'\n",
    "locator = pd.read_excel('locator.xlsx', index_col = 0)"
   ]
  },
  {
   "cell_type": "code",
   "execution_count": null,
   "metadata": {},
   "outputs": [],
   "source": [
    "raw_inst = pd.read_csv(locator.loc[table, 'initial'])"
   ]
  },
  {
   "cell_type": "code",
   "execution_count": null,
   "metadata": {},
   "outputs": [],
   "source": [
    "installments = raw_inst.copy()\n",
    "installments = installments.drop(columns = ['DAYS_ENTRY_PAYMENT', \n",
    "                                            'AMT_PAYMENT'])\n",
    "installments = installments.drop_duplicates().sort_values(by = ['DAYS_INSTALMENT', \n",
    "                                                                'SK_ID_PREV', \n",
    "                                                                'NUM_INSTALMENT_NUMBER', \n",
    "                                                                'NUM_INSTALMENT_VERSION'])"
   ]
  },
  {
   "cell_type": "code",
   "execution_count": null,
   "metadata": {},
   "outputs": [],
   "source": [
    "payments = raw_inst.copy()\n",
    "payments = payments.drop(columns = ['NUM_INSTALMENT_VERSION', \n",
    "                                    'AMT_INSTALMENT'])\n",
    "payments = payments.drop_duplicates().sort_values(by = ['DAYS_INSTALMENT', \n",
    "                                                        'SK_ID_PREV', \n",
    "                                                        'NUM_INSTALMENT_NUMBER', \n",
    "                                                        'DAYS_ENTRY_PAYMENT'])\n",
    "payments = payments.fillna(0)"
   ]
  },
  {
   "cell_type": "code",
   "execution_count": null,
   "metadata": {},
   "outputs": [],
   "source": [
    "amt_inst = installments.groupby(['SK_ID_PREV', \n",
    "                                 'DAYS_INSTALMENT', \n",
    "                                 'NUM_INSTALMENT_NUMBER'])['AMT_INSTALMENT'].sum().to_frame('AMT_INSTALMENT').reset_index()\n",
    "inst_ch = installments.groupby(['SK_ID_PREV', \n",
    "                                'DAYS_INSTALMENT', \n",
    "                                'NUM_INSTALMENT_NUMBER'])['NUM_INSTALMENT_VERSION'].max().to_frame('MAX_NUM_VERSION').reset_index()\n",
    "ip = payments.merge(amt_inst,\n",
    "                    on = ['SK_ID_PREV', \n",
    "                          'DAYS_INSTALMENT', \n",
    "                          'NUM_INSTALMENT_NUMBER'],\n",
    "                    how = 'left')\n",
    "ip = ip.merge(inst_ch,\n",
    "              on = ['SK_ID_PREV', \n",
    "                    'DAYS_INSTALMENT', \n",
    "                    'NUM_INSTALMENT_NUMBER'],\n",
    "              how = 'left')\n",
    "del amt_inst, inst_ch\n",
    "gc.collect()\n",
    "\n",
    "ip = ip[['SK_ID_PREV',\n",
    "         'SK_ID_CURR',\n",
    "         'NUM_INSTALMENT_NUMBER',\n",
    "         'MAX_NUM_VERSION',\n",
    "         'DAYS_INSTALMENT',\n",
    "         'AMT_INSTALMENT',\n",
    "         'DAYS_ENTRY_PAYMENT',\n",
    "         'AMT_PAYMENT',\n",
    "         ]]"
   ]
  },
  {
   "cell_type": "code",
   "execution_count": null,
   "metadata": {},
   "outputs": [],
   "source": [
    "def get_ip_saldo():\n",
    "    df1 = installments.drop(columns='NUM_INSTALMENT_VERSION').rename(columns={'DAYS_INSTALMENT':'MOMENT',\n",
    "                                                                   'AMT_INSTALMENT': 'SALDO'})\n",
    "    df2 = payments.drop(columns='DAYS_INSTALMENT').rename(columns={'DAYS_ENTRY_PAYMENT':'MOMENT',\n",
    "                                                             'AMT_PAYMENT': 'SALDO'})\n",
    "    df1['SALDO'] = df1['SALDO'] * -1\n",
    "    s = pd.concat((df1, df2)).sort_values(by = ['SK_ID_PREV', \n",
    "                                                'MOMENT', \n",
    "                                                'NUM_INSTALMENT_NUMBER',\n",
    "                                                'SALDO']).drop(columns = ['SK_ID_CURR', \n",
    "                                                                          'NUM_INSTALMENT_NUMBER'])\n",
    "    s['SALDO'] = s.groupby('SK_ID_PREV')['SALDO'].cumsum()    \n",
    "    return s.drop_duplicates(subset = ['SK_ID_PREV', \n",
    "                                       'MOMENT'], keep = 'last')\n",
    "\n",
    "saldo = get_ip_saldo()"
   ]
  },
  {
   "cell_type": "code",
   "execution_count": null,
   "metadata": {},
   "outputs": [],
   "source": [
    "ip['DAYS_ENTRY_PAYMENT_DIFF'] = ip.sort_values(by = 'DAYS_ENTRY_PAYMENT').groupby('SK_ID_PREV')['DAYS_ENTRY_PAYMENT'].diff()\n",
    "ip['PAYMENT_RATIO'] = ip.AMT_PAYMENT / ip.AMT_INSTALMENT\n",
    "ip['DPD'] = (ip.DAYS_ENTRY_PAYMENT - ip.DAYS_INSTALMENT).clip_lower(0).replace({0: np.nan})\n",
    "ip['DBD'] = (ip.DAYS_INSTALMENT - ip.DAYS_ENTRY_PAYMENT).clip_lower(0).replace({0: np.nan})\n",
    "ip['IS_PD'] = ip.DPD.clip_upper(1).fillna(0)\n",
    "ip['AMT_PD'] = ip.AMT_PAYMENT * ip.IS_PD\n",
    "ip['PD_RATIO'] = ip.PAYMENT_RATIO * ip.IS_PD\n",
    "ip['DPD_W'] = ip.PAYMENT_RATIO * ip.DPD\n",
    "ip['DBD_W'] = ip.PAYMENT_RATIO * ip.DBD"
   ]
  },
  {
   "cell_type": "code",
   "execution_count": null,
   "metadata": {},
   "outputs": [],
   "source": [
    "ip['INSTALMENT_DAY_SALDO'] = ip.merge(saldo,\n",
    "                                      left_on = ['SK_ID_PREV', 'DAYS_INSTALMENT'],\n",
    "                                      right_on = ['SK_ID_PREV', 'MOMENT'],\n",
    "                                      how = 'left')['SALDO']\n",
    "\n",
    "ip['PAYMENT_DAY_SALDO'] = ip.merge(saldo,\n",
    "                                   left_on = ['SK_ID_PREV', 'DAYS_ENTRY_PAYMENT'],\n",
    "                                   right_on = ['SK_ID_PREV', 'MOMENT'],\n",
    "                                   how = 'left')['SALDO']"
   ]
  },
  {
   "cell_type": "code",
   "execution_count": null,
   "metadata": {},
   "outputs": [],
   "source": [
    "aggregations = {'DAYS_INSTALMENT': ['min', 'max', 'mean', 'std'],\n",
    "                'DAYS_ENTRY_PAYMENT_DIFF': ['min', 'max', 'mean', 'std'],\n",
    "                'DPD': ['min', 'max', 'mean', 'std'],\n",
    "                'DBD': ['min', 'max', 'mean', 'std'],\n",
    "                'DPD_W': ['min', 'max', 'mean', 'std'],\n",
    "                'DBD_W': ['min', 'max', 'mean', 'std'],\n",
    "                'PAYMENT_RATIO': ['min', 'max', 'mean', 'std'],\n",
    "                'PD_RATIO': ['max', 'mean', 'std'],\n",
    "                'AMT_INSTALMENT': ['min', 'max', 'mean', 'std'], \n",
    "                'AMT_PAYMENT': ['min', 'max', 'mean', 'std'],\n",
    "                'AMT_PD': ['max', 'mean', 'std'],\n",
    "                'INSTALMENT_DAY_SALDO': ['min', 'max', 'mean', 'std'],\n",
    "                'PAYMENT_DAY_SALDO': ['min', 'max', 'mean', 'std'],\n",
    "               }"
   ]
  },
  {
   "cell_type": "code",
   "execution_count": null,
   "metadata": {},
   "outputs": [],
   "source": [
    "ip = ip.replace({np.inf:np.nan,\n",
    "                -np.inf:np.nan})"
   ]
  },
  {
   "cell_type": "code",
   "execution_count": null,
   "metadata": {},
   "outputs": [],
   "source": [
    "ip_agg = ip.groupby('SK_ID_CURR').agg(aggregations) \n",
    "ip_agg.columns = pd.Index(['INST_' + e[0] + \"_\" + e[1].upper() for e in ip_agg.columns.tolist()])"
   ]
  },
  {
   "cell_type": "code",
   "execution_count": null,
   "metadata": {},
   "outputs": [],
   "source": [
    "prev = pd.read_csv(locator.loc['prev', 'initial'], \n",
    "                   index_col = 'SK_ID_PREV')"
   ]
  },
  {
   "cell_type": "code",
   "execution_count": null,
   "metadata": {},
   "outputs": [],
   "source": [
    "prev_ip = ip.groupby('SK_ID_PREV').agg({'SK_ID_CURR': 'max',\n",
    "                                        'NUM_INSTALMENT_NUMBER': 'max',\n",
    "                                        'AMT_INSTALMENT': 'sum'})"
   ]
  },
  {
   "cell_type": "code",
   "execution_count": null,
   "metadata": {},
   "outputs": [],
   "source": [
    "prev_ip = prev_ip.join(payments.groupby('SK_ID_PREV').agg({'AMT_PAYMENT': 'sum'}))\n",
    "prev_ip['DEBT'] = (prev_ip.AMT_INSTALMENT - prev_ip.AMT_PAYMENT).round(3)"
   ]
  },
  {
   "cell_type": "code",
   "execution_count": null,
   "metadata": {},
   "outputs": [],
   "source": [
    "prev_ip = prev_ip.join(payments.groupby('SK_ID_PREV')['AMT_PAYMENT'].apply(np.count_nonzero).to_frame('PAYMENTS_COUNT'))"
   ]
  },
  {
   "cell_type": "code",
   "execution_count": null,
   "metadata": {},
   "outputs": [],
   "source": [
    "prev_ip = prev_ip.join(ip.groupby('SK_ID_PREV')['IS_PD'].sum().to_frame('PAYMENTS_PD_COUNT'))\n",
    "prev_ip['PAYMENTS_PD_COUNT_RATIO'] = prev_ip.PAYMENTS_PD_COUNT / prev_ip.PAYMENTS_COUNT"
   ]
  },
  {
   "cell_type": "code",
   "execution_count": null,
   "metadata": {},
   "outputs": [],
   "source": [
    "prev_ip = prev_ip.join(prev[['AMT_CREDIT', \n",
    "                             'AMT_ANNUITY', \n",
    "                             'CNT_PAYMENT', \n",
    "                             'DAYS_TERMINATION']])\n",
    "prev_ip['DAYS_TERMINATION'] = prev_ip['DAYS_TERMINATION'].replace({365243: np.nan})"
   ]
  },
  {
   "cell_type": "code",
   "execution_count": null,
   "metadata": {},
   "outputs": [],
   "source": [
    "prev_ip['DEBT_RATIO'] = prev_ip['DEBT'] / prev_ip['AMT_CREDIT']"
   ]
  },
  {
   "cell_type": "code",
   "execution_count": null,
   "metadata": {},
   "outputs": [],
   "source": [
    "prev_ip['ACTIVE'] = prev_ip.DAYS_TERMINATION.isnull().astype(int) * prev_ip.AMT_ANNUITY.notnull().astype(int)\n",
    "prev_ip = prev_ip.drop(columns = 'DAYS_TERMINATION')"
   ]
  },
  {
   "cell_type": "code",
   "execution_count": null,
   "metadata": {},
   "outputs": [],
   "source": [
    "prev_ip['REMAINED_INST'] = (prev_ip.CNT_PAYMENT - prev_ip.NUM_INSTALMENT_NUMBER).abs() * prev_ip.ACTIVE \n",
    "prev_ip['REMAINED_AMT'] = prev_ip.AMT_ANNUITY * prev_ip.REMAINED_INST"
   ]
  },
  {
   "cell_type": "code",
   "execution_count": null,
   "metadata": {},
   "outputs": [],
   "source": [
    "prev_aggregations = {'AMT_PAYMENT': 'sum',\n",
    "                     'DEBT': 'sum',\n",
    "                     'PAYMENTS_COUNT': 'sum',\n",
    "                     'PAYMENTS_PD_COUNT': 'sum',\n",
    "                     'PAYMENTS_PD_COUNT_RATIO': ['mean', 'max'],\n",
    "                     'DEBT_RATIO': ['mean', 'max'],\n",
    "                     'ACTIVE': ['mean', 'sum'],\n",
    "                     'REMAINED_INST': 'sum',\n",
    "                     'REMAINED_AMT': 'sum',\n",
    "                    }"
   ]
  },
  {
   "cell_type": "code",
   "execution_count": null,
   "metadata": {},
   "outputs": [],
   "source": [
    "prev_agg = prev_ip.groupby('SK_ID_CURR').agg(prev_aggregations) \n",
    "prev_agg.columns = pd.Index(['INSTPREV_' + e[0] + \"_\" + e[1].upper() for e in prev_agg.columns.tolist()])"
   ]
  },
  {
   "cell_type": "code",
   "execution_count": null,
   "metadata": {},
   "outputs": [],
   "source": [
    "ip_agg = ip_agg.join(prev_agg)"
   ]
  },
  {
   "cell_type": "code",
   "execution_count": null,
   "metadata": {},
   "outputs": [],
   "source": [
    "ip_agg.to_csv(locator.loc[table, 'feat_eng'])"
   ]
  }
 ],
 "metadata": {
  "kernelspec": {
   "display_name": "Python 3",
   "language": "python",
   "name": "python3"
  },
  "language_info": {
   "codemirror_mode": {
    "name": "ipython",
    "version": 3
   },
   "file_extension": ".py",
   "mimetype": "text/x-python",
   "name": "python",
   "nbconvert_exporter": "python",
   "pygments_lexer": "ipython3",
   "version": "3.6.5"
  }
 },
 "nbformat": 4,
 "nbformat_minor": 2
}
