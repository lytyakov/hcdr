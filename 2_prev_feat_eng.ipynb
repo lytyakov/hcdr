{
 "cells": [
  {
   "cell_type": "code",
   "execution_count": null,
   "metadata": {},
   "outputs": [],
   "source": [
    "import numpy as np\n",
    "import pandas as pd\n",
    "from warnings import filterwarnings as f_w\n",
    "f_w('ignore')\n",
    "pd.options.display.max_columns = 999\n",
    "pd.options.display.max_rows = 500\n",
    "from itertools import product"
   ]
  },
  {
   "cell_type": "code",
   "execution_count": null,
   "metadata": {},
   "outputs": [],
   "source": [
    "table = 'prev'\n",
    "locator = pd.read_excel('locator.xlsx', index_col = 0)"
   ]
  },
  {
   "cell_type": "code",
   "execution_count": null,
   "metadata": {},
   "outputs": [],
   "source": [
    "prev = pd.read_csv(locator.loc[table, 'initial'])"
   ]
  },
  {
   "cell_type": "code",
   "execution_count": null,
   "metadata": {},
   "outputs": [],
   "source": [
    "for c in [co for co in prev.columns if 'DAYS' in co]:\n",
    "    prev[c] = prev[c].replace({365243: np.nan})"
   ]
  },
  {
   "cell_type": "code",
   "execution_count": null,
   "metadata": {},
   "outputs": [],
   "source": [
    "prev.loc[887093, 'CODE_REJECT_REASON'] = 'XNA' \n",
    "#это единственная запись, где отказано в кредите, но код причины ХРА, такой только у одобренных встречается"
   ]
  },
  {
   "cell_type": "code",
   "execution_count": null,
   "metadata": {},
   "outputs": [],
   "source": [
    "prev.drop(1127152, inplace = True) \n",
    "#удалим единственную запись о кредите, у которой не указана сумма кредита"
   ]
  },
  {
   "cell_type": "code",
   "execution_count": null,
   "metadata": {},
   "outputs": [],
   "source": [
    "for co in [c for c in prev.columns if prev[c].dtype == object]:\n",
    "    prev[co] = prev[co].fillna('XNA')"
   ]
  },
  {
   "cell_type": "code",
   "execution_count": null,
   "metadata": {},
   "outputs": [],
   "source": [
    "idx = prev[prev.CODE_REJECT_REASON == 'XNA'][prev.NAME_CONTRACT_STATUS == 'Approved'].index\n",
    "prev.loc[idx, 'CODE_REJECT_REASON'] = 'XAP'"
   ]
  },
  {
   "cell_type": "code",
   "execution_count": null,
   "metadata": {},
   "outputs": [],
   "source": [
    "prev = prev[prev.FLAG_LAST_APPL_PER_CONTRACT == 'Y'] #исключаем из анализа заявки, которые не являются последними по контракту, то есть их условия были изменены впоследствии или они вообще были ошибочными; непоследние заявки все отказные, кроме двух\n",
    "prev.drop('FLAG_LAST_APPL_PER_CONTRACT', axis = 1, inplace = True)"
   ]
  },
  {
   "cell_type": "code",
   "execution_count": null,
   "metadata": {},
   "outputs": [],
   "source": [
    "todrop = [\n",
    "     'WEEKDAY_APPR_PROCESS_START', #в какой день недели началось одобрение\n",
    "     'HOUR_APPR_PROCESS_START', #в какой час дня началось одобрение\n",
    "     'NFLAG_LAST_APPL_IN_DAY', #последняя ли заявка за день, как установить другие заявки этого же клиента я не знаю\n",
    "     'NAME_TYPE_SUITE', #c кем пришел в банк за кредитом\n",
    "     'DAYS_FIRST_DRAWING', #этот показатель надо анализировать отдельно, вместе с данными о погашении кредитов\n",
    "     'DAYS_FIRST_DUE', #этот показатель надо анализировать отдельно, вместе с данными о погашении кредитов\n",
    "     'DAYS_LAST_DUE_1ST_VERSION', #этот показатель надо анализировать отдельно, вместе с данными о погашении кредитов\n",
    "     'DAYS_LAST_DUE', #этот показатель надо анализировать отдельно, вместе с данными о погашении кредитов\n",
    "     'DAYS_TERMINATION', #этот показатель надо анализировать отдельно, вместе с данными о погашении кредитов\n",
    "     'NFLAG_INSURED_ON_APPROVAL', #застрахован ли кредит\n",
    "     'SELLERPLACE_AREA', #площадь офиса, где был оформлен кредит\n",
    "     'NAME_SELLER_INDUSTRY', #отрасль компании, где был оформлен кредит\n",
    "     'NAME_PORTFOLIO', #в основном информация дублируется в PRODUCT_COMBINATION\n",
    "    ]\n",
    "\n",
    "prev = prev.drop(columns = todrop)\n",
    "#пока удаляем эти колонки, как бы гипотеза о том, что они не влияют существенно на \n",
    "#вероятность возврата кредита или должны быть проанализированы отдельно"
   ]
  },
  {
   "cell_type": "code",
   "execution_count": null,
   "metadata": {},
   "outputs": [],
   "source": [
    "prev['CREDIT_APPL'] = prev.eval('AMT_CREDIT / AMT_APPLICATION')\n",
    "prev['APPL_PRICE'] = prev.eval('AMT_CREDIT / AMT_GOODS_PRICE')\n",
    "prev['DAYS_DECISION_DIFF'] = prev.groupby('SK_ID_CURR')['DAYS_DECISION'].diff()"
   ]
  },
  {
   "cell_type": "code",
   "execution_count": null,
   "metadata": {},
   "outputs": [],
   "source": [
    "prev = prev[(prev.NAME_CONTRACT_STATUS == 'Approved') | (prev.NAME_CONTRACT_STATUS == 'Refused')]\n",
    "prev = prev.sort_values(by = ['SK_ID_CURR', 'DAYS_DECISION'])\n",
    "approved = prev[prev.NAME_CONTRACT_STATUS == 'Approved'].drop(columns = 'NAME_CONTRACT_STATUS')\n",
    "refused = prev[prev.NAME_CONTRACT_STATUS == 'Refused'].drop(columns = 'NAME_CONTRACT_STATUS')"
   ]
  },
  {
   "cell_type": "code",
   "execution_count": null,
   "metadata": {},
   "outputs": [],
   "source": [
    "cat_agg = {'NAME_CONTRACT_STATUS': ['last', lambda x: x.mode()[0]], #статус по последней заявке и самый частый статус\n",
    "           'NAME_CASH_LOAN_PURPOSE': ['last', lambda x: x.mode()[0]],  #цель последней заявки\n",
    "           'CODE_REJECT_REASON': ['last', lambda x: x.mode()[0]], #причина отказа по последней заявке\n",
    "           'NAME_GOODS_CATEGORY': ['last', lambda x: x.mode()[0]], #категория товаров по последней заявке\n",
    "           'NAME_CLIENT_TYPE': ['first', 'last'], #тип клиента по первой и последней заявкам\n",
    "           'NAME_YIELD_GROUP': ['last', lambda x: x.mode()[0]],\n",
    "           'PRODUCT_COMBINATION': ['last', lambda x: x.mode()[0]],\n",
    "           'CHANNEL_TYPE': ['last', lambda x: x.mode()[0]],\n",
    "          }  "
   ]
  },
  {
   "cell_type": "code",
   "execution_count": null,
   "metadata": {},
   "outputs": [],
   "source": [
    "num_agg = {'SK_ID_PREV': 'count', #сколько заявок подавал клиент\n",
    "           'NAME_CONTRACT_TYPE' : 'nunique', #на сколько продуктов банка претендовал клиент\n",
    "           'NAME_CASH_LOAN_PURPOSE': 'nunique',\n",
    "           'AMT_ANNUITY': ['min', 'max', 'mean', 'std'],\n",
    "           'AMT_APPLICATION': ['min', 'max', 'mean', 'sum', 'last'],\n",
    "           'AMT_CREDIT': ['min', 'max', 'mean', 'sum', 'last'],\n",
    "           'AMT_GOODS_PRICE': ['min', 'max', 'mean', 'sum'],\n",
    "           'CREDIT_APPL': ['min', 'max', 'mean', 'std'],\n",
    "           'APPL_PRICE': ['min', 'max', 'mean', 'std'],\n",
    "           'AMT_DOWN_PAYMENT': ['min', 'max', 'mean', 'std'],\n",
    "           'RATE_DOWN_PAYMENT': ['min', 'max', 'mean', 'std'],\n",
    "           'RATE_INTEREST_PRIMARY': ['mean', 'std'],\n",
    "           'RATE_INTEREST_PRIVILEGED': 'mean',\n",
    "           'DAYS_DECISION': ['min', 'max'], #как давно было принято решение по первой заявке, поданной клиентом; когда была рассмотрена последняя заявка, поданная клиентом\n",
    "           'DAYS_DECISION_DIFF': ['min', 'max', 'mean', 'std', 'last'],\n",
    "           'CNT_PAYMENT': ['min', 'max', 'mean', 'std', 'sum', 'last'],\n",
    "          }  "
   ]
  },
  {
   "cell_type": "code",
   "execution_count": null,
   "metadata": {},
   "outputs": [],
   "source": [
    "def get_prelast(df, column, nth, name):\n",
    "    return df.groupby('SK_ID_CURR').nth(nth)[column].rename(name)\n",
    "#функция чтобы получить предпоследнюю и предпредпоследнюю запись в какой-то колонке, сгруппированной по SK_ID_CURR"
   ]
  },
  {
   "cell_type": "code",
   "execution_count": null,
   "metadata": {},
   "outputs": [],
   "source": [
    "def get_reject_reasons_means(df = prev):\n",
    "    dummies = pd.get_dummies(df[['SK_ID_CURR', 'CODE_REJECT_REASON']])\n",
    "    try:\n",
    "        dummies = dummies.drop(columns = ['CODE_REJECT_REASON_CLIENT', 'CODE_REJECT_REASON_XAP']) \n",
    "    except:\n",
    "        pass\n",
    "    grouped = dummies.groupby('SK_ID_CURR').agg('mean')\n",
    "    grouped.columns = pd.Index([(c, '') for c in grouped.columns.tolist()])\n",
    "    return grouped"
   ]
  },
  {
   "cell_type": "code",
   "execution_count": null,
   "metadata": {},
   "outputs": [],
   "source": [
    "prev_agg = prev.groupby('SK_ID_CURR').agg({**cat_agg, **num_agg})\n",
    "prev_agg = prev_agg.join(get_reject_reasons_means())\n",
    "for col, nth in product(cat_agg.keys(), [-2, -3]):\n",
    "    name = ('{}_LAST'.format(col), str(nth))\n",
    "    prev_agg = prev_agg.join(get_prelast(prev, col, nth, name))\n",
    "prev_agg.columns = pd.Index(['PREV_' + c[0] + \"_\" + c[1].upper().replace('<LAMBDA>', 'MODE') \n",
    "                             for c in prev_agg.columns.tolist()])"
   ]
  },
  {
   "cell_type": "code",
   "execution_count": null,
   "metadata": {},
   "outputs": [],
   "source": [
    "cat_agg.pop('NAME_CONTRACT_STATUS')\n",
    "ref_agg = refused.groupby('SK_ID_CURR').agg({**cat_agg, **num_agg})\n",
    "for col, nth in product(cat_agg.keys(), [-2, -3]):\n",
    "    name = ('{}_LAST'.format(col), str(nth))\n",
    "    ref_agg = ref_agg.join(get_prelast(refused, col, nth, name))\n",
    "ref_agg.columns = pd.Index(['PREV_REFUSED_' + c[0] + \"_\" + c[1].upper().replace('<LAMBDA>', 'MODE') \n",
    "                            for c in ref_agg.columns.tolist()])"
   ]
  },
  {
   "cell_type": "code",
   "execution_count": null,
   "metadata": {},
   "outputs": [],
   "source": [
    "cat_agg.pop('CODE_REJECT_REASON')\n",
    "app_agg = approved.groupby('SK_ID_CURR').agg({**cat_agg, **num_agg})\n",
    "for col, nth in product(cat_agg.keys(), [-2, -3]):\n",
    "    name = ('{}_LAST'.format(col), str(nth))\n",
    "    app_agg = app_agg.join(get_prelast(approved, col, nth, name))\n",
    "app_agg.columns = pd.Index(['PREV_APPROVED_' + c[0] + \"_\" + c[1].upper().replace('<LAMBDA>', 'MODE') \n",
    "                            for c in app_agg.columns.tolist()])"
   ]
  },
  {
   "cell_type": "code",
   "execution_count": null,
   "metadata": {},
   "outputs": [],
   "source": [
    "prev_agg = prev_agg.join(app_agg)\n",
    "prev_agg = prev_agg.join(ref_agg)"
   ]
  },
  {
   "cell_type": "code",
   "execution_count": null,
   "metadata": {},
   "outputs": [],
   "source": [
    "todrop = prev_agg.columns[prev_agg.isnull().sum().eq(prev_agg.shape[0])]\n",
    "prev_agg = prev_agg.drop(columns = todrop)"
   ]
  },
  {
   "cell_type": "code",
   "execution_count": null,
   "metadata": {},
   "outputs": [],
   "source": [
    "prev_agg = prev_agg.replace({np.inf:np.nan,\n",
    "                             -np.inf:np.nan})"
   ]
  },
  {
   "cell_type": "code",
   "execution_count": null,
   "metadata": {},
   "outputs": [],
   "source": [
    "prev_agg.to_csv(locator.loc[table, 'feat_eng'])"
   ]
  }
 ],
 "metadata": {
  "kernelspec": {
   "display_name": "Python 3",
   "language": "python",
   "name": "python3"
  },
  "language_info": {
   "codemirror_mode": {
    "name": "ipython",
    "version": 3
   },
   "file_extension": ".py",
   "mimetype": "text/x-python",
   "name": "python",
   "nbconvert_exporter": "python",
   "pygments_lexer": "ipython3",
   "version": "3.6.5"
  }
 },
 "nbformat": 4,
 "nbformat_minor": 2
}
