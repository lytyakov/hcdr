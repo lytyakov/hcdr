{
 "cells": [
  {
   "cell_type": "code",
   "execution_count": null,
   "metadata": {},
   "outputs": [],
   "source": [
    "import numpy as np\n",
    "import pandas as pd\n",
    "from warnings import filterwarnings as f_w\n",
    "f_w('ignore')\n",
    "pd.options.display.max_columns = 999\n",
    "pd.options.display.max_rows = 500\n",
    "from homecredit import HomeCreditDataTable\n",
    "import gc\n",
    "from itertools import product\n",
    "from tqdm import tqdm_notebook\n",
    "from sklearn.feature_selection import f_classif, mutual_info_classif\n",
    "from lightgbm import LGBMClassifier\n",
    "from sklearn.metrics import matthews_corrcoef"
   ]
  },
  {
   "cell_type": "code",
   "execution_count": null,
   "metadata": {},
   "outputs": [],
   "source": [
    "table = 'appl'\n",
    "locator = pd.read_excel('locator.xlsx', index_col = 0)"
   ]
  },
  {
   "cell_type": "code",
   "execution_count": null,
   "metadata": {},
   "outputs": [],
   "source": [
    "hc = HomeCreditDataTable()\n",
    "hc.train = pd.read_csv(locator.loc[table, 'initial'].split(', ')[0],\n",
    "                       index_col = 'SK_ID_CURR')\n",
    "hc.test = pd.read_csv(locator.loc[table, 'initial'].split(', ')[1],\n",
    "                      index_col = 'SK_ID_CURR')"
   ]
  },
  {
   "cell_type": "code",
   "execution_count": null,
   "metadata": {},
   "outputs": [],
   "source": [
    "#небольшая чистка данных\n",
    "hc.data = hc.data.replace({'XNA': np.nan,\n",
    "                           'Unknown': np.nan})\n",
    "hc.set_column(hc.data.REGION_RATING_CLIENT_W_CITY.replace({-1: 2}))\n",
    "hc.set_column(hc.data.DAYS_EMPLOYED.replace({365243: np.nan}))\n",
    "hc.set_column(hc.data.AMT_INCOME_TOTAL.replace(\n",
    "    dict.fromkeys(hc.train.AMT_INCOME_TOTAL.nlargest(5).values, \n",
    "                  np.nan)))\n",
    "hc.set_column(hc.data.DAYS_LAST_PHONE_CHANGE.replace({0: np.nan}))"
   ]
  },
  {
   "cell_type": "code",
   "execution_count": null,
   "metadata": {},
   "outputs": [],
   "source": [
    "#удаляем цифровые колонки без вариативности в тесте\n",
    "#только NAME_CONTRACT_TYPE из объектных колонок имеет в тесте менее 1% вариативность \n",
    "flags = hc.data.select_dtypes(exclude=object).columns[hc.data.select_dtypes(exclude=object).nunique().eq(2)]\n",
    "todrop = hc.data[flags].columns[np.logical_not(hc.test[flags].mean().between(.01, .99))]\n",
    "hc.data = hc.data.drop(columns = todrop)"
   ]
  },
  {
   "cell_type": "code",
   "execution_count": null,
   "metadata": {},
   "outputs": [],
   "source": [
    "#сколько ежемесячных платежей нужно внести, чтобы возвратить сумму кредита\n",
    "hc.set_column(hc.data.eval('AMT_CREDIT / AMT_ANNUITY'),\n",
    "              col_name = 'CREDIT_ANNUITY')"
   ]
  },
  {
   "cell_type": "code",
   "execution_count": null,
   "metadata": {},
   "outputs": [],
   "source": [
    "#какая часть цены покупаемых товаров покрыта кредитом\n",
    "hc.set_column(hc.data.eval('AMT_CREDIT / AMT_GOODS_PRICE'),\n",
    "              col_name = 'CREDIT_PRICE')"
   ]
  },
  {
   "cell_type": "code",
   "execution_count": null,
   "metadata": {},
   "outputs": [],
   "source": [
    "#сколько таких товаров можно купить за доход\n",
    "hc.set_column(hc.data.eval('AMT_GOODS_PRICE / AMT_INCOME_TOTAL'),\n",
    "              col_name = 'PRICE_INCOME')"
   ]
  },
  {
   "cell_type": "code",
   "execution_count": null,
   "metadata": {},
   "outputs": [],
   "source": [
    "#сколько месяцев надо копить, откладывая ежемесячный платеж, чтобы накопить на товар\n",
    "hc.set_column(hc.data.eval('AMT_GOODS_PRICE / AMT_ANNUITY'),\n",
    "              col_name = 'PRICE_ANNUITY')"
   ]
  },
  {
   "cell_type": "code",
   "execution_count": null,
   "metadata": {},
   "outputs": [],
   "source": [
    "#сколько месяцев нужно копить, чтобы набрать сумму кредита\n",
    "hc.set_column(hc.data.eval('AMT_CREDIT / AMT_INCOME_TOTAL'),\n",
    "              col_name = 'CREDIT_INCOME')"
   ]
  },
  {
   "cell_type": "code",
   "execution_count": null,
   "metadata": {},
   "outputs": [],
   "source": [
    "#какую долю дохода составляет ежемесячный платеж\n",
    "hc.set_column(hc.data.eval('AMT_ANNUITY / AMT_INCOME_TOTAL'),\n",
    "              col_name = 'ANNUITY_INCOME')"
   ]
  },
  {
   "cell_type": "code",
   "execution_count": null,
   "metadata": {},
   "outputs": [],
   "source": [
    "#доход на члена семьи\n",
    "hc.set_column(hc.data.eval('AMT_INCOME_TOTAL / CNT_FAM_MEMBERS'),\n",
    "              col_name = 'INCOME_FAMMEM')"
   ]
  },
  {
   "cell_type": "code",
   "execution_count": null,
   "metadata": {},
   "outputs": [],
   "source": [
    "#отношение стажа и возраста\n",
    "hc.set_column(hc.data.eval('DAYS_EMPLOYED / DAYS_BIRTH'),\n",
    "              col_name = 'EMPL_BIRTH')"
   ]
  },
  {
   "cell_type": "code",
   "execution_count": null,
   "metadata": {},
   "outputs": [],
   "source": [
    "#рейтинг региона, взвешенный по населению\n",
    "hc.set_column(hc.data.eval('REGION_RATING_CLIENT * REGION_POPULATION_RELATIVE'),\n",
    "              col_name = 'RATING_POPULATION')\n",
    "hc.set_column(hc.data.eval('REGION_RATING_CLIENT_W_CITY * REGION_POPULATION_RELATIVE'),\n",
    "              col_name = 'RATING_CITY_POPULATION')"
   ]
  },
  {
   "cell_type": "code",
   "execution_count": null,
   "metadata": {},
   "outputs": [],
   "source": [
    "#доля детей в семье\n",
    "hc.set_column(hc.data.eval('CNT_CHILDREN / CNT_FAM_MEMBERS'),\n",
    "              col_name = 'CHILDREN_FAMMEM')"
   ]
  },
  {
   "cell_type": "code",
   "execution_count": null,
   "metadata": {},
   "outputs": [],
   "source": [
    "#заменим бесконечность (результат деления на 0 в созданных признаках) на NaN\n",
    "hc.data = hc.data.replace({np.inf: np.nan, -np.inf: np.nan})"
   ]
  },
  {
   "cell_type": "code",
   "execution_count": null,
   "metadata": {},
   "outputs": [],
   "source": [
    "hc.data = hc.data.rename(columns = {c: '_'.join((table.upper(), c))\n",
    "                                    for c in hc.data.columns})"
   ]
  },
  {
   "cell_type": "code",
   "execution_count": null,
   "metadata": {},
   "outputs": [],
   "source": [
    "hc.data.to_csv(locator.loc[table, 'feat_eng'])"
   ]
  },
  {
   "cell_type": "code",
   "execution_count": null,
   "metadata": {},
   "outputs": [],
   "source": [
    "hc.train[['TARGET']].to_csv('train.csv')\n",
    "pd.DataFrame(index = hc.test.index).to_csv('test.csv')"
   ]
  }
 ],
 "metadata": {
  "kernelspec": {
   "display_name": "Python 3",
   "language": "python",
   "name": "python3"
  },
  "language_info": {
   "codemirror_mode": {
    "name": "ipython",
    "version": 3
   },
   "file_extension": ".py",
   "mimetype": "text/x-python",
   "name": "python",
   "nbconvert_exporter": "python",
   "pygments_lexer": "ipython3",
   "version": "3.6.5"
  }
 },
 "nbformat": 4,
 "nbformat_minor": 2
}
