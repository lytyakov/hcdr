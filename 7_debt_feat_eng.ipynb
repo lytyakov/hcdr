{
 "cells": [
  {
   "cell_type": "code",
   "execution_count": null,
   "metadata": {},
   "outputs": [],
   "source": [
    "import numpy as np\n",
    "import pandas as pd\n",
    "import warnings\n",
    "warnings.filterwarnings('ignore', category=Warning)\n",
    "pd.options.display.max_columns = 999\n",
    "pd.options.display.max_rows = 500\n",
    "from homecredit import HomeCreditDataTable\n",
    "from tqdm import tqdm_notebook\n",
    "from lightgbm import LGBMClassifier\n",
    "from bayes_opt import BayesianOptimization\n",
    "import gc\n",
    "locator = pd.read_excel('locator.xlsx', index_col = 0)"
   ]
  },
  {
   "cell_type": "code",
   "execution_count": null,
   "metadata": {},
   "outputs": [],
   "source": [
    "hc = HomeCreditDataTable()\n",
    "hc.train = pd.read_csv('train.csv',\n",
    "                       index_col = 'SK_ID_CURR')\n",
    "hc.test = pd.read_csv('test.csv',\n",
    "                      index_col = 'SK_ID_CURR')\n",
    "hc.data = hc.data.join(pd.read_csv(locator.loc['appl', 'feat_eng'],\n",
    "                                   index_col = 'SK_ID_CURR'))\n",
    "hc.cv_split(random_state=8)\n",
    "hc.early_stop_rounds = 100\n",
    "hc.model = LGBMClassifier(n_estimators=10000, \n",
    "                          n_jobs=6, \n",
    "                          lambda_l1=8.611318144229598, \n",
    "                          max_depth=5, \n",
    "                          num_leaves=10) "
   ]
  },
  {
   "cell_type": "code",
   "execution_count": null,
   "metadata": {},
   "outputs": [],
   "source": [
    "hc.validate()\n",
    "print(hc.cv_score[0])"
   ]
  },
  {
   "cell_type": "code",
   "execution_count": null,
   "metadata": {},
   "outputs": [],
   "source": [
    "prev = pd.read_csv(locator.loc['prev', 'initial'])\n",
    "for c in [co for co in prev.columns if 'DAYS' in co]:\n",
    "    prev[c] = prev[c].replace({365243: np.nan})\n",
    "todrop = ['AMT_DOWN_PAYMENT',\n",
    " 'AMT_GOODS_PRICE',\n",
    " 'WEEKDAY_APPR_PROCESS_START',\n",
    " 'HOUR_APPR_PROCESS_START',\n",
    " 'FLAG_LAST_APPL_PER_CONTRACT',\n",
    " 'NFLAG_LAST_APPL_IN_DAY',\n",
    " 'RATE_DOWN_PAYMENT',\n",
    " 'RATE_INTEREST_PRIMARY',\n",
    " 'RATE_INTEREST_PRIVILEGED',\n",
    " 'NAME_CASH_LOAN_PURPOSE',\n",
    " 'NAME_PAYMENT_TYPE',\n",
    " 'CODE_REJECT_REASON',\n",
    " 'NAME_TYPE_SUITE',\n",
    " 'NAME_CLIENT_TYPE',\n",
    " 'NAME_GOODS_CATEGORY',\n",
    " 'NAME_PORTFOLIO',\n",
    " 'NAME_PRODUCT_TYPE',\n",
    " 'CHANNEL_TYPE',\n",
    " 'SELLERPLACE_AREA',\n",
    " 'NAME_SELLER_INDUSTRY',\n",
    " 'NAME_YIELD_GROUP',\n",
    " 'PRODUCT_COMBINATION',\n",
    " 'NFLAG_INSURED_ON_APPROVAL']\n",
    "prev = prev.drop(columns=todrop)"
   ]
  },
  {
   "cell_type": "code",
   "execution_count": null,
   "metadata": {},
   "outputs": [],
   "source": [
    "pos = pd.read_csv(locator.loc['pos', 'initial'])\n",
    "pos = pos.sort_values(by='MONTHS_BALANCE')\n",
    "pos_grouped = pos.groupby('SK_ID_PREV').agg({'SK_ID_CURR': 'max',\n",
    "                                             'MONTHS_BALANCE': 'last',\n",
    "                                             'CNT_INSTALMENT': 'last',\n",
    "                                             'CNT_INSTALMENT_FUTURE': 'last',\n",
    "                                             'NAME_CONTRACT_STATUS': 'last'}).reset_index()"
   ]
  },
  {
   "cell_type": "code",
   "execution_count": null,
   "metadata": {},
   "outputs": [],
   "source": [
    "raw_inst = pd.read_csv(locator.loc['inst', 'initial'])\n",
    "installments = raw_inst.copy()\n",
    "installments = installments.drop(columns = ['DAYS_ENTRY_PAYMENT', \n",
    "                                            'AMT_PAYMENT'])\n",
    "installments = installments.drop_duplicates().sort_values(by = ['DAYS_INSTALMENT', \n",
    "                                                                'SK_ID_PREV', \n",
    "                                                                'NUM_INSTALMENT_NUMBER', \n",
    "                                                                'NUM_INSTALMENT_VERSION'])\n",
    "payments = raw_inst.copy()\n",
    "payments = payments.drop(columns = ['NUM_INSTALMENT_VERSION', \n",
    "                                    'AMT_INSTALMENT'])\n",
    "payments = payments.drop_duplicates().sort_values(by = ['DAYS_INSTALMENT', \n",
    "                                                        'SK_ID_PREV', \n",
    "                                                        'NUM_INSTALMENT_NUMBER', \n",
    "                                                        'DAYS_ENTRY_PAYMENT'])\n",
    "payments = payments.fillna(0)\n",
    "\n",
    "installments = installments.groupby('SK_ID_PREV').agg({'SK_ID_CURR': 'max',\n",
    "                                                       'AMT_INSTALMENT': 'sum', \n",
    "                                                       'DAYS_INSTALMENT': 'max',\n",
    "                                                       'NUM_INSTALMENT_NUMBER': 'last'}).reset_index()\n",
    "\n",
    "payments = payments.groupby('SK_ID_PREV').agg({'SK_ID_CURR': 'max',\n",
    "                                               'AMT_PAYMENT': 'sum',\n",
    "                                               'DAYS_ENTRY_PAYMENT': 'max',\n",
    "                                               'NUM_INSTALMENT_NUMBER': 'last'}).reset_index()"
   ]
  },
  {
   "cell_type": "code",
   "execution_count": null,
   "metadata": {},
   "outputs": [],
   "source": [
    "card = pd.read_csv(locator.loc['card', 'initial'])\n",
    "card = card.sort_values(by = ['SK_ID_PREV', 'MONTHS_BALANCE'])\n",
    "card_grouped = card.groupby('SK_ID_PREV').tail(1)"
   ]
  },
  {
   "cell_type": "code",
   "execution_count": null,
   "metadata": {},
   "outputs": [],
   "source": [
    "gc.collect()"
   ]
  },
  {
   "cell_type": "code",
   "execution_count": null,
   "metadata": {},
   "outputs": [],
   "source": [
    "unique_ids = np.concatenate((\n",
    "    prev.SK_ID_PREV.unique(),\n",
    "    raw_inst.SK_ID_PREV.unique(),\n",
    "    pos.SK_ID_PREV.unique(),\n",
    "    card.SK_ID_PREV.unique()))\n",
    "unique_ids = np.unique(unique_ids)"
   ]
  },
  {
   "cell_type": "code",
   "execution_count": null,
   "metadata": {},
   "outputs": [],
   "source": [
    "debt = pd.DataFrame(data=unique_ids,\n",
    "                    columns=['SK_ID_PREV'])"
   ]
  },
  {
   "cell_type": "code",
   "execution_count": null,
   "metadata": {},
   "outputs": [],
   "source": [
    "def get_column(df, column):\n",
    "    return debt.merge(df[['SK_ID_PREV', column]],\n",
    "                      on = 'SK_ID_PREV',\n",
    "                      how = 'outer')[column]"
   ]
  },
  {
   "cell_type": "code",
   "execution_count": null,
   "metadata": {},
   "outputs": [],
   "source": [
    "debt['PREV_NAME_CONTRACT_TYPE'] = get_column(prev, 'NAME_CONTRACT_TYPE')\n",
    "debt['PREV_NAME_CONTRACT_STATUS'] = get_column(prev, 'NAME_CONTRACT_STATUS')\n",
    "debt['PREV_AMT_CREDIT'] = get_column(prev, 'AMT_CREDIT')\n",
    "debt['PREV_CNT_PAYMENT'] = get_column(prev, 'CNT_PAYMENT')\n",
    "debt['PREV_AMT_ANNUITY'] = get_column(prev, 'AMT_ANNUITY')\n",
    "debt['PREV_DAYS_LAST_DUE'] = get_column(prev, 'DAYS_LAST_DUE')\n",
    "debt['PREV_DAYS_TERMINATION'] = get_column(prev, 'DAYS_TERMINATION')"
   ]
  },
  {
   "cell_type": "code",
   "execution_count": null,
   "metadata": {},
   "outputs": [],
   "source": [
    "debt['POS_MONTHS_BALANCE'] = get_column(pos_grouped, 'MONTHS_BALANCE')\n",
    "debt['POS_CNT_INSTALMENT'] = get_column(pos_grouped, 'CNT_INSTALMENT')\n",
    "debt['POS_CNT_INSTALMENT_FUTURE'] = get_column(pos_grouped, 'CNT_INSTALMENT_FUTURE')\n",
    "debt['POS_NAME_CONTRACT_STATUS'] = get_column(pos_grouped, 'NAME_CONTRACT_STATUS')"
   ]
  },
  {
   "cell_type": "code",
   "execution_count": null,
   "metadata": {},
   "outputs": [],
   "source": [
    "debt['INST_AMT_INSTALMENT'] = get_column(installments, 'AMT_INSTALMENT')\n",
    "debt['INST_LAST_DAYS_INSTALMENT'] = get_column(installments, 'DAYS_INSTALMENT')\n",
    "debt['INST_LAST_NUM_INSTALMENT_NUMBER'] = get_column(installments, 'NUM_INSTALMENT_NUMBER')"
   ]
  },
  {
   "cell_type": "code",
   "execution_count": null,
   "metadata": {},
   "outputs": [],
   "source": [
    "debt['PAYM_AMT_PAYMENT'] = get_column(payments, 'AMT_PAYMENT')\n",
    "debt['PAYM_LAST_DAYS_PAYMENT'] = get_column(payments, 'DAYS_ENTRY_PAYMENT')\n",
    "debt['PAYM_LAST_NUM_INSTALMENT_NUMBER'] = get_column(payments, 'NUM_INSTALMENT_NUMBER')"
   ]
  },
  {
   "cell_type": "code",
   "execution_count": null,
   "metadata": {},
   "outputs": [],
   "source": [
    "debt['CARD_MONTHS_BALANCE'] = get_column(card_grouped, 'MONTHS_BALANCE')\n",
    "debt['CARD_AMT_BALANCE'] = get_column(card_grouped, 'AMT_BALANCE')\n",
    "debt['CARD_AMT_CREDIT_LIMIT_ACTUAL'] = get_column(card_grouped, 'AMT_CREDIT_LIMIT_ACTUAL')\n",
    "debt['CARD_AMT_TOTAL_RECEIVABLE'] = get_column(card_grouped, 'AMT_TOTAL_RECEIVABLE')"
   ]
  },
  {
   "cell_type": "code",
   "execution_count": null,
   "metadata": {},
   "outputs": [],
   "source": [
    "sk_id_curr = debt[['SK_ID_PREV']]\n",
    "sk_id_curr['PREV_SK_ID_CURR'] = get_column(prev, 'SK_ID_CURR')\n",
    "sk_id_curr['POS_SK_ID_CURR'] = get_column(pos_grouped, 'SK_ID_CURR')\n",
    "sk_id_curr['INST_SK_ID_CURR'] = get_column(installments, 'SK_ID_CURR')\n",
    "sk_id_curr['PAYM_SK_ID_CURR'] = get_column(payments, 'SK_ID_CURR')\n",
    "sk_id_curr['CARD_SK_ID_CURR'] = get_column(card_grouped, 'SK_ID_CURR')"
   ]
  },
  {
   "cell_type": "code",
   "execution_count": null,
   "metadata": {},
   "outputs": [],
   "source": [
    "notapproved = debt[(debt.PREV_NAME_CONTRACT_STATUS.notnull())]\n",
    "notapproved = notapproved[(notapproved.PREV_NAME_CONTRACT_STATUS!='Approved')]\n",
    "#у заявок, которые не были одобрены, нет данных о платежах, их можно удалить\n",
    "notapproved_ids = notapproved.SK_ID_PREV.values\n",
    "debt = debt[~debt.SK_ID_PREV.isin(notapproved_ids)]\n",
    "sk_id_curr = sk_id_curr[~sk_id_curr.SK_ID_PREV.isin(notapproved_ids)]\n",
    "sk_id_curr['SK_ID_CURR'] = sk_id_curr.drop(columns='SK_ID_PREV').mean(axis=1).astype(int)"
   ]
  },
  {
   "cell_type": "code",
   "execution_count": null,
   "metadata": {},
   "outputs": [],
   "source": [
    "debt = debt.merge(sk_id_curr[['SK_ID_PREV',\n",
    "                              'SK_ID_CURR']],\n",
    "                  on = 'SK_ID_PREV',\n",
    "                  how = 'left')"
   ]
  },
  {
   "cell_type": "code",
   "execution_count": null,
   "metadata": {},
   "outputs": [],
   "source": [
    "debt = debt[debt.PREV_DAYS_TERMINATION.isnull()]"
   ]
  },
  {
   "cell_type": "code",
   "execution_count": null,
   "metadata": {},
   "outputs": [],
   "source": [
    "card_debt = debt[debt.PREV_NAME_CONTRACT_TYPE == 'Revolving loans']\n",
    "card_debt['CARD_DEBT'] = card_debt[['CARD_AMT_BALANCE',\n",
    "                                    'CARD_AMT_CREDIT_LIMIT_ACTUAL',\n",
    "                                    'CARD_AMT_TOTAL_RECEIVABLE']].max(axis=1).dropna()\n",
    "card_debt = card_debt[card_debt['CARD_DEBT'].notnull()] "
   ]
  },
  {
   "cell_type": "code",
   "execution_count": null,
   "metadata": {},
   "outputs": [],
   "source": [
    "noncard_debt = debt[debt.CARD_MONTHS_BALANCE.isnull()].drop(columns=['CARD_MONTHS_BALANCE',\n",
    "                                                                     'CARD_AMT_BALANCE',\n",
    "                                                                     'CARD_AMT_CREDIT_LIMIT_ACTUAL',\n",
    "                                                                     'CARD_AMT_TOTAL_RECEIVABLE'])\n",
    "noncard_debt = noncard_debt[noncard_debt.PREV_NAME_CONTRACT_TYPE != 'Revolving loans']\n",
    "noncard_debt = noncard_debt[noncard_debt['POS_CNT_INSTALMENT_FUTURE'].notnull()]\n",
    "noncard_debt['REMAINED_AMT_PAYMENTS'] = noncard_debt[['POS_CNT_INSTALMENT_FUTURE',\n",
    "                                                      'PREV_AMT_ANNUITY']].fillna(0).eval('POS_CNT_INSTALMENT_FUTURE * PREV_AMT_ANNUITY').round()\n",
    "noncard_debt['DEBT_PAYMENTS'] = noncard_debt.eval('INST_AMT_INSTALMENT - PAYM_AMT_PAYMENT').round()\n",
    "noncard_debt['TOTAL_DEBT'] = noncard_debt.eval('REMAINED_AMT_PAYMENTS + DEBT_PAYMENTS').round()\n",
    "noncard_debt.PREV_NAME_CONTRACT_TYPE = noncard_debt.PREV_NAME_CONTRACT_TYPE.fillna('Unknown')"
   ]
  },
  {
   "cell_type": "code",
   "execution_count": null,
   "metadata": {},
   "outputs": [],
   "source": [
    "card_debt_agg = card_debt.groupby('SK_ID_CURR').agg({'SK_ID_PREV':'nunique',\n",
    "                                                     'CARD_DEBT': 'sum'})"
   ]
  },
  {
   "cell_type": "code",
   "execution_count": null,
   "metadata": {},
   "outputs": [],
   "source": [
    "noncard_debt_agg = noncard_debt.groupby('SK_ID_CURR').agg({'SK_ID_PREV':'nunique',\n",
    "                                                           'REMAINED_AMT_PAYMENTS': 'sum',\n",
    "                                                           'DEBT_PAYMENTS': 'sum',\n",
    "                                                           'TOTAL_DEBT': 'sum',\n",
    "                                                           'POS_CNT_INSTALMENT_FUTURE': 'max'})"
   ]
  },
  {
   "cell_type": "code",
   "execution_count": null,
   "metadata": {},
   "outputs": [],
   "source": [
    "cash_debt_agg = noncard_debt[noncard_debt.PREV_NAME_CONTRACT_TYPE=='Cash loans']\n",
    "cash_debt_agg = cash_debt_agg.groupby('SK_ID_CURR').agg({'SK_ID_PREV':'nunique',\n",
    "                                                         'REMAINED_AMT_PAYMENTS': 'sum',\n",
    "                                                         'DEBT_PAYMENTS': 'sum',\n",
    "                                                         'TOTAL_DEBT': 'sum',\n",
    "                                                         'POS_CNT_INSTALMENT_FUTURE': 'max'})"
   ]
  },
  {
   "cell_type": "code",
   "execution_count": null,
   "metadata": {},
   "outputs": [],
   "source": [
    "cons_debt_agg = noncard_debt[noncard_debt.PREV_NAME_CONTRACT_TYPE=='Consumer loans']\n",
    "cons_debt_agg = cons_debt_agg.groupby('SK_ID_CURR').agg({'SK_ID_PREV':'nunique',\n",
    "                                                         'REMAINED_AMT_PAYMENTS': 'sum',\n",
    "                                                         'DEBT_PAYMENTS': 'sum',\n",
    "                                                         'TOTAL_DEBT': 'sum',\n",
    "                                                         'POS_CNT_INSTALMENT_FUTURE': 'max'})"
   ]
  },
  {
   "cell_type": "code",
   "execution_count": null,
   "metadata": {},
   "outputs": [],
   "source": [
    "unknown_agg = noncard_debt[noncard_debt.PREV_NAME_CONTRACT_TYPE=='Unknown']\n",
    "unknown_agg = unknown_agg.groupby('SK_ID_CURR').agg({'SK_ID_PREV':'nunique',\n",
    "                                                     'REMAINED_AMT_PAYMENTS': 'sum',\n",
    "                                                     'DEBT_PAYMENTS': 'sum',\n",
    "                                                     'TOTAL_DEBT': 'sum',\n",
    "                                                     'POS_CNT_INSTALMENT_FUTURE': 'max'})"
   ]
  },
  {
   "cell_type": "code",
   "execution_count": null,
   "metadata": {},
   "outputs": [],
   "source": [
    "buro = pd.read_csv(locator.loc['buro', 'initial'])"
   ]
  },
  {
   "cell_type": "code",
   "execution_count": null,
   "metadata": {},
   "outputs": [],
   "source": [
    "buro = buro[(buro.CREDIT_ACTIVE == 'Active')&(buro.DAYS_CREDIT_UPDATE > -60)]"
   ]
  },
  {
   "cell_type": "code",
   "execution_count": null,
   "metadata": {},
   "outputs": [],
   "source": [
    "buro_cards = buro[buro.CREDIT_TYPE == 'Credit card']\n",
    "buro_cards = buro_cards[buro_cards.DAYS_ENDDATE_FACT.isnull()]\n",
    "buro_noncards = buro[buro.CREDIT_TYPE != 'Credit card']\n",
    "buro_noncards = buro_noncards[buro_noncards.DAYS_ENDDATE_FACT.isnull()]"
   ]
  },
  {
   "cell_type": "code",
   "execution_count": null,
   "metadata": {},
   "outputs": [],
   "source": [
    "buro_cards['BURO_CARD_DEBT'] = buro_cards[['AMT_CREDIT_SUM_DEBT',\n",
    "                                           'AMT_CREDIT_SUM_LIMIT']].max(axis=1)"
   ]
  },
  {
   "cell_type": "code",
   "execution_count": null,
   "metadata": {},
   "outputs": [],
   "source": [
    "idx = buro_noncards[(buro_noncards.CREDIT_TYPE != 'Mortgage')&(buro_noncards.DAYS_CREDIT_ENDDATE > 3650)].index\n",
    "buro_noncards.loc[idx, 'DAYS_CREDIT_ENDDATE'] = np.nan"
   ]
  },
  {
   "cell_type": "code",
   "execution_count": null,
   "metadata": {},
   "outputs": [],
   "source": [
    "buro_noncards['BURO_CNT_PAYMENTS_REMAINED'] = buro_noncards.DAYS_CREDIT_ENDDATE / 30"
   ]
  },
  {
   "cell_type": "code",
   "execution_count": null,
   "metadata": {},
   "outputs": [],
   "source": [
    "buro_cards_agg = buro_cards.groupby('SK_ID_CURR').agg({'SK_ID_BUREAU':'nunique',\n",
    "                                                       'BURO_CARD_DEBT': 'sum'})"
   ]
  },
  {
   "cell_type": "code",
   "execution_count": null,
   "metadata": {},
   "outputs": [],
   "source": [
    "buro_noncards_agg = buro_noncards.groupby('SK_ID_CURR').agg({'SK_ID_BUREAU':'nunique',\n",
    "                                                             'AMT_CREDIT_SUM_DEBT': 'sum',\n",
    "                                                             'AMT_CREDIT_SUM_OVERDUE': 'sum',\n",
    "                                                             'BURO_CNT_PAYMENTS_REMAINED': 'max'})"
   ]
  },
  {
   "cell_type": "code",
   "execution_count": null,
   "metadata": {},
   "outputs": [],
   "source": [
    "buro_mortgage_agg = buro_noncards[buro_noncards.CREDIT_TYPE=='Mortgage']\n",
    "buro_mortgage_agg = buro_mortgage_agg.groupby('SK_ID_CURR').agg({'SK_ID_BUREAU':'nunique',\n",
    "                                                                 'AMT_CREDIT_SUM_DEBT': 'sum',\n",
    "                                                                 'AMT_CREDIT_SUM_OVERDUE': 'sum',\n",
    "                                                                 'BURO_CNT_PAYMENTS_REMAINED': 'max'})"
   ]
  },
  {
   "cell_type": "code",
   "execution_count": null,
   "metadata": {},
   "outputs": [],
   "source": [
    "buro_nonmortgage_agg = buro_noncards[buro_noncards.CREDIT_TYPE!='Mortgage']\n",
    "buro_nonmortgage_agg = buro_nonmortgage_agg.groupby('SK_ID_CURR').agg({'SK_ID_BUREAU':'nunique',\n",
    "                                                                       'AMT_CREDIT_SUM_DEBT': 'sum',\n",
    "                                                                       'AMT_CREDIT_SUM_OVERDUE': 'sum',\n",
    "                                                                       'BURO_CNT_PAYMENTS_REMAINED': 'max'})"
   ]
  },
  {
   "cell_type": "code",
   "execution_count": null,
   "metadata": {},
   "outputs": [],
   "source": [
    "card_debt_agg.columns = pd.Index(['HC_NUM_CRCARDS',\n",
    "                                  'HC_CRCARDS_DEBT'])"
   ]
  },
  {
   "cell_type": "code",
   "execution_count": null,
   "metadata": {},
   "outputs": [],
   "source": [
    "noncard_debt_agg.columns = pd.Index(['HC_NUM_LOANS',\n",
    "                                     'HC_LOANS_INSTALMENTS_REMAINED',\n",
    "                                     'HC_LOANS_OVERDUE',\n",
    "                                     'HC_LOANS_DEBT',\n",
    "                                     'HC_CNT_FUTURE_LOANS_PAYMENTS'])"
   ]
  },
  {
   "cell_type": "code",
   "execution_count": null,
   "metadata": {},
   "outputs": [],
   "source": [
    "buro_cards_agg.columns = pd.Index(['BANKS_NUM_CRCARDS',\n",
    "                                   'BANKS_CRCARDS_DEBT'])"
   ]
  },
  {
   "cell_type": "code",
   "execution_count": null,
   "metadata": {},
   "outputs": [],
   "source": [
    "buro_mortgage_agg.columns = pd.Index(['BANKS_NUM_MORTGAGES',\n",
    "                                      'BANKS_MORTGAGES_DEBT',\n",
    "                                      'BANKS_MORTGAGES_OVERDUE',\n",
    "                                      'BANKS_CNT_FUTURE_MORTGAGES_PAYMENTS'])"
   ]
  },
  {
   "cell_type": "code",
   "execution_count": null,
   "metadata": {},
   "outputs": [],
   "source": [
    "buro_nonmortgage_agg.columns = pd.Index(['BANKS_NUM_LOANS',\n",
    "                                         'BANKS_LOANS_DEBT',\n",
    "                                         'BANKS_LOANS_OVERDUE',\n",
    "                                         'BANKS_CNT_FUTURE_LOANS_PAYMENTS'])"
   ]
  },
  {
   "cell_type": "code",
   "execution_count": null,
   "metadata": {},
   "outputs": [],
   "source": [
    "total_debt = pd.DataFrame(index = hc.data.index)"
   ]
  },
  {
   "cell_type": "code",
   "execution_count": null,
   "metadata": {},
   "outputs": [],
   "source": [
    "total_debt = total_debt.join(noncard_debt_agg[['HC_NUM_LOANS',\n",
    "                                               'HC_LOANS_DEBT',\n",
    "                                               'HC_LOANS_OVERDUE',\n",
    "                                               'HC_CNT_FUTURE_LOANS_PAYMENTS']])\n",
    "\n",
    "total_debt = total_debt.join(card_debt_agg)\n",
    "\n",
    "total_debt = total_debt.join(buro_nonmortgage_agg[['BANKS_NUM_LOANS',\n",
    "                                                   'BANKS_LOANS_DEBT',\n",
    "                                                   'BANKS_LOANS_OVERDUE',\n",
    "                                                   'BANKS_CNT_FUTURE_LOANS_PAYMENTS']])\n",
    "\n",
    "total_debt = total_debt.join(buro_mortgage_agg[['BANKS_NUM_MORTGAGES',\n",
    "                                                'BANKS_MORTGAGES_DEBT',\n",
    "                                                'BANKS_MORTGAGES_OVERDUE',\n",
    "                                                'BANKS_CNT_FUTURE_MORTGAGES_PAYMENTS']])\n",
    "\n",
    "total_debt = total_debt.join(buro_cards_agg)"
   ]
  },
  {
   "cell_type": "code",
   "execution_count": null,
   "metadata": {},
   "outputs": [],
   "source": [
    "total_debt['TOTAL_DEBT'] = total_debt[[c for c in total_debt.columns\n",
    "                                       if 'DEBT' in c]].sum(axis=1)\n",
    "total_debt['TOTAL_OVERDUE'] = total_debt[[c for c in total_debt.columns\n",
    "                                       if 'OVERDUE' in c]].sum(axis=1)\n",
    "total_debt['HC_DEBT_RATIO'] = total_debt[['HC_LOANS_DEBT',\n",
    "                                          'HC_CRCARDS_DEBT']].sum(axis=1) / total_debt['TOTAL_DEBT']\n",
    "total_debt['HC_OVERDUE_RATIO'] = total_debt['HC_LOANS_OVERDUE'] / total_debt['TOTAL_OVERDUE']\n",
    "total_debt['LOANS_RATIO'] = total_debt[['HC_LOANS_DEBT',\n",
    "                                        'BANKS_LOANS_DEBT']].sum(axis=1) / total_debt['TOTAL_DEBT']\n",
    "total_debt['CRCARDS_RATIO'] = total_debt[['HC_CRCARDS_DEBT',\n",
    "                                          'BANKS_CRCARDS_DEBT']].sum(axis=1) / total_debt['TOTAL_DEBT']\n",
    "total_debt['MORTGAGE_RATIO'] = total_debt['BANKS_MORTGAGES_DEBT'] / total_debt['TOTAL_DEBT']\n",
    "total_debt['FUTURE_LOANS_NUM_PAYMENTS'] = total_debt[['HC_CNT_FUTURE_LOANS_PAYMENTS',\n",
    "                                                      'BANKS_CNT_FUTURE_LOANS_PAYMENTS']].sum(axis=1)"
   ]
  },
  {
   "cell_type": "code",
   "execution_count": null,
   "metadata": {},
   "outputs": [],
   "source": [
    "total_debt.columns = pd.Index(['_'.join(('DEBT', c)) for c in total_debt.columns])"
   ]
  },
  {
   "cell_type": "code",
   "execution_count": null,
   "metadata": {},
   "outputs": [],
   "source": [
    "hc.data = hc.data.join(total_debt)"
   ]
  },
  {
   "cell_type": "code",
   "execution_count": null,
   "metadata": {},
   "outputs": [],
   "source": [
    "hc.validate()\n",
    "print(hc.cv_score[0])"
   ]
  },
  {
   "cell_type": "code",
   "execution_count": null,
   "metadata": {},
   "outputs": [],
   "source": [
    "total_debt.to_csv(locator.loc['debt', 'feat_eng'])"
   ]
  }
 ],
 "metadata": {
  "kernelspec": {
   "display_name": "Python 3",
   "language": "python",
   "name": "python3"
  },
  "language_info": {
   "codemirror_mode": {
    "name": "ipython",
    "version": 3
   },
   "file_extension": ".py",
   "mimetype": "text/x-python",
   "name": "python",
   "nbconvert_exporter": "python",
   "pygments_lexer": "ipython3",
   "version": "3.6.5"
  }
 },
 "nbformat": 4,
 "nbformat_minor": 2
}
