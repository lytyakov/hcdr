{
 "cells": [
  {
   "cell_type": "code",
   "execution_count": null,
   "metadata": {},
   "outputs": [],
   "source": [
    "import numpy as np\n",
    "import pandas as pd\n",
    "from warnings import filterwarnings as f_w\n",
    "f_w('ignore')\n",
    "pd.options.display.max_columns = 999\n",
    "pd.options.display.max_rows = 500\n",
    "from homecredit import HomeCreditDataTable\n",
    "from lightgbm import LGBMClassifier\n",
    "from tqdm import tqdm_notebook\n",
    "from bayes_opt import BayesianOptimization\n",
    "from matplotlib import pyplot as plt"
   ]
  },
  {
   "cell_type": "code",
   "execution_count": null,
   "metadata": {},
   "outputs": [],
   "source": [
    "def read_table(table):\n",
    "    hc = HomeCreditDataTable()\n",
    "    hc.train = pd.read_csv('train.csv',\n",
    "                           index_col = 'SK_ID_CURR')\n",
    "    hc.test = pd.read_csv('test.csv',\n",
    "                          index_col = 'SK_ID_CURR')\n",
    "    hc.data = hc.data.join(pd.read_csv(locator.loc[table, 'feat_eng'],\n",
    "                                       index_col = 'SK_ID_CURR'))\n",
    "    return hc"
   ]
  },
  {
   "cell_type": "code",
   "execution_count": null,
   "metadata": {},
   "outputs": [],
   "source": [
    "def add_table(hc, table):\n",
    "    df = pd.read_csv(locator.loc[table, 'feat_eng'],\n",
    "                     index_col = 'SK_ID_CURR')\n",
    "    hc.data = hc.data.join(df)\n",
    "    return hc"
   ]
  },
  {
   "cell_type": "code",
   "execution_count": null,
   "metadata": {},
   "outputs": [],
   "source": [
    "locator = pd.read_excel('locator.xlsx', index_col = 0)"
   ]
  },
  {
   "cell_type": "code",
   "execution_count": null,
   "metadata": {},
   "outputs": [],
   "source": [
    "seed = 8"
   ]
  },
  {
   "cell_type": "code",
   "execution_count": null,
   "metadata": {},
   "outputs": [],
   "source": [
    "hc = read_table('appl')"
   ]
  },
  {
   "cell_type": "code",
   "execution_count": null,
   "metadata": {},
   "outputs": [],
   "source": [
    "for table in ['prev', 'inst', 'pos', 'card', 'buro', 'debt']:\n",
    "    hc = add_table(hc, table)"
   ]
  },
  {
   "cell_type": "code",
   "execution_count": null,
   "metadata": {},
   "outputs": [],
   "source": [
    "hc.data = pd.get_dummies(hc.data,\n",
    "                         dummy_na = True)"
   ]
  },
  {
   "cell_type": "code",
   "execution_count": null,
   "metadata": {},
   "outputs": [],
   "source": [
    "hc.cv_split(stratified=False,\n",
    "            random_state = seed)"
   ]
  },
  {
   "cell_type": "code",
   "execution_count": null,
   "metadata": {},
   "outputs": [],
   "source": [
    "hc.model = LGBMClassifier(n_estimators = 10000, \n",
    "                          learning_rate = 0.02,\n",
    "                          n_jobs = 6,\n",
    "                          num_leaves = 5,\n",
    "                          max_depth = 5,\n",
    "                          lambda_l1 = 22.648736497717117,\n",
    "                          lambda_l2 = 98.67287726505594,\n",
    "                          min_gain_to_split = 0.29019888246738307,\n",
    "                          min_sum_hessian_in_leaf = 66.7839604637625,\n",
    "                          bagging_fraction = 0.5325536786661328,\n",
    "                          feature_fraction = 0.5885253688928079)\n",
    "hc.early_stop_rounds = 500"
   ]
  },
  {
   "cell_type": "code",
   "execution_count": null,
   "metadata": {},
   "outputs": [],
   "source": [
    "hc.validate()"
   ]
  },
  {
   "cell_type": "code",
   "execution_count": null,
   "metadata": {},
   "outputs": [],
   "source": [
    "gi_kf = pd.DataFrame(index=hc.data.columns)\n",
    "for n, imp in enumerate(hc.feat_imp):\n",
    "    gi_kf['split%d'%n] = imp[1]\n",
    "gi_kf['mean_gain'] = gi_kf.mean(axis=1)\n",
    "gi_kf = gi_kf.sort_values(by='mean_gain', ascending=False)"
   ]
  },
  {
   "cell_type": "code",
   "execution_count": null,
   "metadata": {},
   "outputs": [],
   "source": [
    "num = 650:\n",
    "cols = gi.head(num).index\n",
    "hc.predict(cols)\n",
    "hc.submission.to_csv('sub.csv')"
   ]
  }
 ],
 "metadata": {
  "kernelspec": {
   "display_name": "Python 3",
   "language": "python",
   "name": "python3"
  },
  "language_info": {
   "codemirror_mode": {
    "name": "ipython",
    "version": 3
   },
   "file_extension": ".py",
   "mimetype": "text/x-python",
   "name": "python",
   "nbconvert_exporter": "python",
   "pygments_lexer": "ipython3",
   "version": "3.6.5"
  }
 },
 "nbformat": 4,
 "nbformat_minor": 2
}
